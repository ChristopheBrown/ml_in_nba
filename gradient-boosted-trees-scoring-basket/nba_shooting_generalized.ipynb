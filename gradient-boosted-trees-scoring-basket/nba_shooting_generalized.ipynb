{
 "cells": [
  {
   "cell_type": "code",
   "execution_count": 1,
   "id": "f1765491",
   "metadata": {},
   "outputs": [],
   "source": [
    "import math\n",
    "import numpy as np\n",
    "import pandas as pd\n",
    "import matplotlib.pyplot as plt\n",
    "from matplotlib.pyplot import figure\n",
    "from matplotlib.colors import ListedColormap\n",
    "from sklearn.neighbors import KNeighborsClassifier\n",
    "from sklearn.ensemble import GradientBoostingClassifier\n",
    "from sklearn.metrics import accuracy_score\n",
    "from sklearn.tree import export_graphviz\n",
    "from basketball_reference_scraper.shot_charts import get_shot_chart\n",
    "from basketball_reference_scraper.players import get_stats, get_game_logs\n",
    "from pydotplus import graph_from_dot_data\n",
    "from IPython.display import Image\n",
    "from datetime import datetime, timedelta"
   ]
  },
  {
   "cell_type": "code",
   "execution_count": 2,
   "id": "1ca315d6",
   "metadata": {},
   "outputs": [],
   "source": [
    "rand_state = 23\n",
    "np.random.seed(rand_state)"
   ]
  },
  {
   "cell_type": "code",
   "execution_count": 3,
   "id": "bd7a7a9d",
   "metadata": {},
   "outputs": [],
   "source": [
    "%matplotlib inline"
   ]
  },
  {
   "cell_type": "code",
   "execution_count": 4,
   "id": "9bb7da3d",
   "metadata": {},
   "outputs": [],
   "source": [
    "def get_today():\n",
    "    return datetime.now().date().strftime('%Y-%m-%d')\n",
    "\n",
    "def time_to_secs(time_remaining):\n",
    "    min_sec_split = time_remaining.split(':')\n",
    "    time_in_quarter = float(min_sec_split[0])*60 + float(min_sec_split[1])\n",
    "    return time_in_quarter\n",
    "\n",
    "def annot_max(x,y, ax=None):\n",
    "    xmax = x[np.argmax(y)]\n",
    "    ymax = y.max()\n",
    "    text= \"lr={:.3f}, probability={:.3f}%\".format(xmax, ymax*100)\n",
    "    if not ax:\n",
    "        ax=plt.gca()\n",
    "    bbox_props = dict(boxstyle=\"square,pad=0.3\", fc=\"w\", ec=\"k\", lw=0.72)\n",
    "    arrowprops=dict(arrowstyle=\"->\",connectionstyle=\"angle,angleA=0,angleB=60\")\n",
    "    kw = dict(xycoords='data',textcoords=\"axes fraction\",\n",
    "              arrowprops=arrowprops, bbox=bbox_props, ha=\"right\", va=\"top\")\n",
    "    ax.annotate(text, xy=(xmax, ymax), xytext=(0.94,0.96), **kw)\n",
    "    \n",
    "def extract_features(player, start, end, split=0.75, playoffs=False):\n",
    "    df = get_game_logs(player, start, end, playoffs=playoffs, ask_matches=False)\n",
    "\n",
    "    gp_dates = list(df['DATE'].astype(str))\n",
    "    gp_teams = list(df['TEAM'])\n",
    "    gp_opponents = list(df['OPPONENT'])\n",
    "\n",
    "    gp = len(gp_dates)\n",
    "\n",
    "    print(f'Found shot data for {gp} games played by {player}.')\n",
    "\n",
    "    shots_aggregate = np.zeros((0,7))\n",
    "\n",
    "    for idx in range(gp):\n",
    "        s = get_shot_chart(gp_dates[idx], gp_teams[idx], gp_opponents[idx])[gp_teams[idx]]\n",
    "        ss = s.loc[(s['PLAYER'] == player)]\n",
    "\n",
    "        fg_count = len(ss)\n",
    "        shots = np.zeros((fg_count,7))\n",
    "        for i in range(len(ss)):\n",
    "            shots[i][0] = float(ss.iloc[i]['x'].strip(' ft'))\n",
    "            shots[i][1] = float(ss.iloc[i]['y'].strip(' ft'))\n",
    "            shots[i][2] = float(ss.iloc[i]['DISTANCE'].strip(' ft'))\n",
    "            shots[i][3] = time_to_secs( ss.iloc[i]['TIME_REMAINING'] )\n",
    "            shots[i][4] = 1 if ss.iloc[i]['QUARTER'] % 2 == 0 else 0 # 2nd or 4th quarter \"end of half\"\n",
    "            shots[i][5] = 1 if ss.iloc[i]['QUARTER'] % 4 == 0 else 0 # 4th quarter \"end of regulation\"\n",
    "            shots[i][6] = 1 if ss.iloc[i]['MAKE_MISS'] == 'MAKE' else 0 \n",
    "\n",
    "        shots_aggregate = np.concatenate((shots_aggregate,shots), axis=0)\n",
    "        \n",
    "        if (idx % 100 == 0) and idx > 0:\n",
    "            print(f'Data retrieved for {idx} games')\n",
    "        elif idx == gp-1:\n",
    "            print(f'All shot data retrieved for {gp} games')\n",
    "            \n",
    "    np.random.shuffle(shots_aggregate)\n",
    "    \n",
    "    train_range = math.floor(split * gp)\n",
    "\n",
    "\n",
    "    X_train = shots_aggregate[:train_range,:-1]\n",
    "    y_train = shots_aggregate[:train_range,-1:].ravel()\n",
    "\n",
    "    X_test = shots_aggregate[train_range:,:-1]\n",
    "    y_test = shots_aggregate[train_range:,-1:].ravel()\n",
    "\n",
    "    return X_train, y_train, X_test, y_test\n",
    "\n",
    "def percentile_analysis(clf, X_test, percentile):\n",
    "    high_chance_buckets = np.zeros((0,7))\n",
    "\n",
    "    for attempt in range(len(X_test)):\n",
    "        prediction = clf.predict_proba(X_test[attempt].reshape(1,-1))\n",
    "\n",
    "        if prediction[0][1] > percentile and prediction[0][1] < 0.999:\n",
    "            high_chance_buckets = np.concatenate((high_chance_buckets, \n",
    "                                                  np.append(X_test[attempt],prediction[0][1]).reshape(1,-1)))\n",
    "\n",
    "    return high_chance_buckets\n",
    "\n",
    "def plot_percentile_shooting(player, high_chance_buckets, percentile):\n",
    "    _max_time = np.max(high_chance_buckets[:,3])\n",
    "    _min_time = np.min(high_chance_buckets[:,2])\n",
    "    \n",
    "    max_time = str(timedelta(seconds=_max_time))\n",
    "    min_time = str(timedelta(seconds=_min_time))\n",
    "    \n",
    "    print(f'{player} should attemp a shot between {max_time} and {min_time}')\n",
    "    \n",
    "    plt.rcParams['figure.dpi'] = 150\n",
    "    plt.rcParams['savefig.dpi'] = 150\n",
    "\n",
    "    xlim = 50 # width of NBA court\n",
    "    ylim = 47 # half the length of NBA court\n",
    "\n",
    "    datafile = 'nbahalfcourt.png'\n",
    "    img = plt.imread(datafile)\n",
    "    img2 = np.flipud(img)\n",
    "    \n",
    "    colors = [\"blue\", \"orange\"]\n",
    "    colormap = ListedColormap(colors)\n",
    "    \n",
    "    fourth_qt = np.argwhere(high_chance_buckets[:,-1]) # find all 4th quarter shots\n",
    "    color_indices = np.zeros((high_chance_buckets.shape[0],1)) \n",
    "    color_indices[fourth_qt] = 1 # color code 4th quarter shots as red\n",
    "    \n",
    "    plt.scatter(1+high_chance_buckets[:,0],1+high_chance_buckets[:,1],zorder=1,\n",
    "               c=color_indices, cmap=colormap)\n",
    "    \n",
    "    plt.title(f'{100*percentile}-percentile shooting by {player}')\n",
    "\n",
    "    plt.imshow(img2, zorder=0, extent=[0, xlim,0, ylim])\n",
    "    plt.xlim(0,xlim)\n",
    "    plt.ylim(0,ylim)\n",
    "    plt.figure(figsize=(12,8), dpi= 200, facecolor='w', edgecolor='k')\n",
    "\n",
    "    plt.pause(0.0001)\n",
    "    plt.show()\n",
    "    \n",
    "def fit_clt(X_train, y_train, X_test, y_test, plot=False):\n",
    "    # Learning Rate Analysis \n",
    "\n",
    "    learning_rates = np.array(range(5, 50, 5))/500\n",
    "    estimators = np.array(range(0, 1000, 250)[1:])\n",
    "\n",
    "    plt_scores = np.zeros((0,3))\n",
    "\n",
    "    clf_main = None\n",
    "    clf_accuracy = 0.0\n",
    "\n",
    "#     for n_estimators in estimators:\n",
    "    for lr in learning_rates:\n",
    "        n_estimators = 100\n",
    "        clf = GradientBoostingClassifier(n_estimators=n_estimators, learning_rate=lr, random_state=rand_state)\n",
    "        clf.fit(X_train, y_train)\n",
    "        score = accuracy_score(y_test, clf.predict(X_test))\n",
    "\n",
    "        if score > clf_accuracy:\n",
    "            clf_main = clf\n",
    "            clf_accuracy = score\n",
    "            print(f'Accuracy: {score*100:.2f}%, learning rate = {lr}, n_trees = {n_estimators} [New peak]')\n",
    "        else:\n",
    "#             print(f'Accuracy: {score*100:.2f}%, learning rate = {lr}, n_trees = {n_estimators}')\n",
    "            pass\n",
    "\n",
    "\n",
    "        results = np.array([score, lr, n_estimators]).reshape(1,-1)  \n",
    "        plt_scores = np.concatenate((plt_scores, results),axis=0)\n",
    "\n",
    "    if plot:\n",
    "        # Plot learning rate vs. test accuracy\n",
    "        xmax = plt_scores[np.argmax(plt_scores[:,0])][1]\n",
    "        ymax = plt_scores[np.argmax(plt_scores[:,0])][0]\n",
    "\n",
    "        fig = plt.figure()\n",
    "        ax = plt.axes()\n",
    "        annot_max(plt_scores[:,1], plt_scores[:,0])\n",
    "        ax.set_ylim(0.5,.6)\n",
    "        plt.pause(0.0001)\n",
    "        plt.plot(plt_scores[:,1], plt_scores[:,0])\n",
    "    \n",
    "    return clf\n",
    "\n",
    "def get_buckets(player, start='1996-11-01', end=get_today(), percentile=0.70, playoffs=False, plot=False):\n",
    "    \n",
    "    X_train, y_train, X_test, y_test = extract_features(player, start, end, split=0.75, playoffs=playoffs)\n",
    "    clf = fit_clt(X_train, y_train, X_test, y_test, plot=plot)\n",
    "    \n",
    "    high_chance_buckets = percentile_analysis(clf=clf, X_test=X_test, percentile=percentile)\n",
    "    \n",
    "    return {'X_train':X_train, 'y_train':y_train, 'X_test':X_test, 'y_test':y_test, \n",
    "            'percentile':percentile, 'buckets':high_chance_buckets, 'name':player, 'classifier':clf}"
   ]
  },
  {
   "cell_type": "code",
   "execution_count": 5,
   "id": "9d3e7ed3",
   "metadata": {
    "scrolled": false
   },
   "outputs": [
    {
     "name": "stdout",
     "output_type": "stream",
     "text": [
      "2012 shooting (playoffs incl.)\n",
      "Found shot data for 20 games played by LeBron James.\n",
      "All shot data retrieved for 20 games\n",
      "Accuracy: 60.92%, learning rate = 0.01, n_trees = 100 [New peak]\n"
     ]
    },
    {
     "data": {
      "image/png": "[encoded data removed]",
      "text/plain": [
       "<Figure size 432x288 with 1 Axes>"
      ]
     },
     "metadata": {
      "needs_background": "light"
     },
     "output_type": "display_data"
    },
    {
     "name": "stdout",
     "output_type": "stream",
     "text": [
      "LeBron James should attemp a shot between 0:08:54 and 0:00:15\n"
     ]
    },
    {
     "data": {
      "image/png": "[encoded data removed]",
      "text/plain": [
       "<Figure size 432x288 with 1 Axes>"
      ]
     },
     "metadata": {
      "needs_background": "light"
     },
     "output_type": "display_data"
    },
    {
     "data": {
      "text/plain": [
       "<Figure size 2400x1600 with 0 Axes>"
      ]
     },
     "metadata": {},
     "output_type": "display_data"
    },
    {
     "name": "stdout",
     "output_type": "stream",
     "text": [
      "hcb len = 17\n"
     ]
    }
   ],
   "source": [
    "players = [\n",
    "#     'Chris Paul',\n",
    "#     'Russell Westbrook', \n",
    "#     'Derrick Rose',\n",
    "#     'Kawhi Leonard',\n",
    "#     'Tim Duncan',\n",
    "#     'Dirk Nowitzki',\n",
    "#     'Carmelo Anthony', \n",
    "#     'Paul George', \n",
    "    'LeBron James' \n",
    "]\n",
    "\n",
    "data = {}\n",
    "\n",
    "start = '2013-04-26'\n",
    "end = '2013-06-21'\n",
    "\n",
    "print('2012 shooting (playoffs incl.)')\n",
    "\n",
    "for player in players:  \n",
    "    try:\n",
    "        data[player] = get_buckets(player, start=start, end=end, percentile=0.70, playoffs=True, plot=True)\n",
    "        plot_percentile_shooting(data[player]['name'], data[player]['buckets'], data[player]['percentile'])\n",
    "        \n",
    "        print(f\"hcb len = {len(data[player]['buckets'])}\")\n",
    "    except ValueError as ve:\n",
    "        print(f'Removing {player}...')\n",
    "        players.remove(player)\n",
    "        continue"
   ]
  },
  {
   "cell_type": "code",
   "execution_count": 7,
   "id": "776d8061",
   "metadata": {},
   "outputs": [
    {
     "data": {
      "text/plain": [
       "array([[ 40.        ,  19.8       ,  22.        , 416.        ,\n",
       "          0.        ,   0.        ,   0.74846928],\n",
       "       [ 35.        ,  20.8       ,  19.        , 534.        ,\n",
       "          1.        ,   0.        ,   0.74846928],\n",
       "       [ 13.9       ,  22.5       ,  20.        , 428.        ,\n",
       "          1.        ,   1.        ,   0.74846928],\n",
       "       [ 37.3       ,  22.1       ,  22.        , 204.        ,\n",
       "          0.        ,   0.        ,   0.74846928],\n",
       "       [ 21.7       ,  21.3       ,  17.        , 500.        ,\n",
       "          1.        ,   1.        ,   0.74846928],\n",
       "       [ 20.8       ,  24.2       ,  20.        , 276.        ,\n",
       "          1.        ,   1.        ,   0.74846928],\n",
       "       [ 13.4       ,  20.3       ,  19.        , 375.        ,\n",
       "          1.        ,   0.        ,   0.74846928],\n",
       "       [  9.8       ,  20.5       ,  21.        , 239.        ,\n",
       "          0.        ,   0.        ,   0.74846928],\n",
       "       [ 15.        ,  20.5       ,  18.        , 437.        ,\n",
       "          0.        ,   0.        ,   0.74846928],\n",
       "       [ 23.        ,  23.2       ,  18.        , 315.        ,\n",
       "          0.        ,   0.        ,   0.74846928],\n",
       "       [ 11.7       ,  19.5       ,  19.        , 249.        ,\n",
       "          1.        ,   1.        ,   0.74846928],\n",
       "       [ 13.7       ,  20.5       ,  19.        , 360.        ,\n",
       "          1.        ,   0.        ,   0.74846928],\n",
       "       [ 16.5       ,  19.5       ,  16.        , 497.        ,\n",
       "          1.        ,   0.        ,   0.74846928],\n",
       "       [ 37.6       ,  22.7       ,  22.        , 285.        ,\n",
       "          0.        ,   0.        ,   0.74846928],\n",
       "       [ 20.        ,  19.4       ,  15.        , 377.        ,\n",
       "          1.        ,   0.        ,   0.74846928],\n",
       "       [ 16.4       ,  20.3       ,  17.        , 272.        ,\n",
       "          1.        ,   1.        ,   0.74846928],\n",
       "       [ 16.4       ,  19.4       ,  16.        , 232.        ,\n",
       "          0.        ,   0.        ,   0.74846928]])"
      ]
     },
     "execution_count": 7,
     "metadata": {},
     "output_type": "execute_result"
    }
   ],
   "source": [
    "data['LeBron James']['buckets'][:]"
   ]
  },
  {
   "cell_type": "code",
   "execution_count": null,
   "id": "e012641e",
   "metadata": {},
   "outputs": [],
   "source": []
  }
 ],
 "metadata": {
  "kernelspec": {
   "display_name": "Python 3 (ipykernel)",
   "language": "python",
   "name": "python3"
  },
  "language_info": {
   "codemirror_mode": {
    "name": "ipython",
    "version": 3
   },
   "file_extension": ".py",
   "mimetype": "text/x-python",
   "name": "python",
   "nbconvert_exporter": "python",
   "pygments_lexer": "ipython3",
   "version": "3.8.12"
  }
 },
 "nbformat": 4,
 "nbformat_minor": 5
}
